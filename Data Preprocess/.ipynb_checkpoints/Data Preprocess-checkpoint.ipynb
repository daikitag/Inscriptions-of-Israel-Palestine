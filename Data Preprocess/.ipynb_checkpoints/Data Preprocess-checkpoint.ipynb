{
 "cells": [
  {
   "cell_type": "code",
   "execution_count": 1,
   "metadata": {},
   "outputs": [],
   "source": [
    "import pandas as pd"
   ]
  },
  {
   "cell_type": "code",
   "execution_count": 2,
   "metadata": {},
   "outputs": [],
   "source": [
    "df = pd.read_csv('summary.csv')"
   ]
  },
  {
   "cell_type": "code",
   "execution_count": 3,
   "metadata": {},
   "outputs": [],
   "source": [
    "df = df[['IIP ID','Text Genre','City Name', 'Language', 'Terminus ante quem', 'Terminus post quem',\n",
    "         'Region', 'Likely religion', 'Material']]\n",
    "df = df.dropna(subset=['Terminus ante quem'])"
   ]
  },
  {
   "cell_type": "markdown",
   "metadata": {},
   "source": [
    "# 1. Text Genre"
   ]
  },
  {
   "cell_type": "code",
   "execution_count": 4,
   "metadata": {},
   "outputs": [
    {
     "data": {
      "text/plain": [
       "funerary.epitaph                      882\n",
       "dedicatory                            853\n",
       "funerary                              758\n",
       "label                                 385\n",
       "text_other                            319\n",
       "text_unknown                          305\n",
       "legal.receipt                         206\n",
       "commodity_chit                        179\n",
       "document                              152\n",
       "graffiti                              126\n",
       "label.ownership                       106\n",
       "financial                              60\n",
       "prayer                                 53\n",
       "label.weight                           45\n",
       "verse                                  40\n",
       "invocation                             33\n",
       "honorific                              29\n",
       "dedicatory.offering                    24\n",
       "place_marker.boundary                  23\n",
       "building                               19\n",
       "acclamation                            18\n",
       "magic                                  18\n",
       "dedicatory.votive                      11\n",
       "place_marker.milestone                 10\n",
       "legal                                   9\n",
       "label label.ownership                   9\n",
       "label.token                             9\n",
       "abecedary                               7\n",
       "dedicatory.imperial                     6\n",
       "funerary.malediction                    4\n",
       "funerary.epitaph magic                  4\n",
       "dedicatory legal                        2\n",
       "calendar                                2\n",
       "place_marker place_marker.boundary      2\n",
       "dedicatory verse                        2\n",
       "malediction                             2\n",
       "invocation graffiti                     1\n",
       "dedicatory building                     1\n",
       "legal legal.receipt                     1\n",
       "prophecy                                1\n",
       "text_other graffiti                     1\n",
       "place_marker                            1\n",
       "building verse                          1\n",
       "funerary dedicatory                     1\n",
       "dedicatory Quotation                    1\n",
       "list                                    1\n",
       "Quotation                               1\n",
       "magic magic.apotropaic                  1\n",
       "building text_other                     1\n",
       "funerary magic abecedary                1\n",
       "label.sundial                           1\n",
       "magic.apotropaic                        1\n",
       "label text_unknown                      1\n",
       "Name: Text Genre, dtype: int64"
      ]
     },
     "execution_count": 4,
     "metadata": {},
     "output_type": "execute_result"
    }
   ],
   "source": [
    "df['Text Genre'].value_counts()"
   ]
  },
  {
   "cell_type": "code",
   "execution_count": 5,
   "metadata": {},
   "outputs": [],
   "source": [
    "# Text Genre\n",
    "df['Text Genre'].value_counts()\n",
    "df['Text Genre'] = df['Text Genre'].replace(['dedicatory quotation', 'dedicatory verse', 'dedicatory.imperial',\n",
    "                                            'dedicatory.offering', 'dedicatory.votive', 'honorific',\n",
    "                                            'dedicatory Quotation', 'dedicatory building'],'dedicatory')"
   ]
  },
  {
   "cell_type": "code",
   "execution_count": 6,
   "metadata": {},
   "outputs": [],
   "source": [
    "df['Text Genre'] = df['Text Genre'].replace(['funerary.malediction', 'funerary.epitaph', 'funerary magic',\n",
    "                                            'funerary dedicatory', 'funerary.epitaph magic', 'funerary magic abecedary'],\n",
    "                                            'funerary')"
   ]
  },
  {
   "cell_type": "code",
   "execution_count": 7,
   "metadata": {},
   "outputs": [],
   "source": [
    "df['Text Genre'] = df['Text Genre'].replace(['graffiti funerary', 'text_other graffiti', 'invocation graffiti'],'graffiti')"
   ]
  },
  {
   "cell_type": "code",
   "execution_count": 8,
   "metadata": {},
   "outputs": [],
   "source": [
    "df['Text Genre'] = df['Text Genre'].replace(['label label.ownership', 'label text_unknown', 'label.ownership',\n",
    "                                            'label.sundial', 'label.token', 'label.weight'],'label')"
   ]
  },
  {
   "cell_type": "code",
   "execution_count": 9,
   "metadata": {},
   "outputs": [],
   "source": [
    "df['Text Genre'] = df['Text Genre'].replace(['legal', 'legal legal.receipt', 'legal.receipt', 'list',\n",
    "                                            'financial', 'commodity_chit', 'dedicatory legal'],'legal/economic')"
   ]
  },
  {
   "cell_type": "code",
   "execution_count": 10,
   "metadata": {},
   "outputs": [],
   "source": [
    "df['Text Genre'] = df['Text Genre'].replace(['place_marker place_marker.boundary',\n",
    "                                            'place_marker.boundary', 'place_marker.milestone'],'place_marker')"
   ]
  },
  {
   "cell_type": "code",
   "execution_count": 11,
   "metadata": {},
   "outputs": [],
   "source": [
    "df['Text Genre'] = df['Text Genre'].replace(['prayer', 'invocation'],'invocation/prayer')"
   ]
  },
  {
   "cell_type": "code",
   "execution_count": 12,
   "metadata": {},
   "outputs": [],
   "source": [
    "df['Text Genre'] = df['Text Genre'].replace(['prophecy', 'signature', 'text_other', 'text_unknown',\n",
    "                                            'verse', 'abecedary', 'acclamation', 'building', 'calendar', 'magic',\n",
    "                                            'magic magic.apotropaic', 'magic.apotropaic', 'malediction', 'building verse',\n",
    "                                            'building text_other', 'building text_other', 'Quotation'],\n",
    "                                            'other/unkown')"
   ]
  },
  {
   "cell_type": "code",
   "execution_count": 13,
   "metadata": {},
   "outputs": [],
   "source": [
    "df['Text Genre'] = df['Text Genre'].replace(['document', 'graffiti', 'invocation/prayer', 'place_marker'],\n",
    "                                            'other/unkown')"
   ]
  },
  {
   "cell_type": "code",
   "execution_count": 14,
   "metadata": {},
   "outputs": [
    {
     "data": {
      "text/plain": [
       "funerary          1650\n",
       "other/unkown      1138\n",
       "dedicatory         927\n",
       "label              556\n",
       "legal/economic     458\n",
       "Name: Text Genre, dtype: int64"
      ]
     },
     "execution_count": 14,
     "metadata": {},
     "output_type": "execute_result"
    }
   ],
   "source": [
    "df['Text Genre'].value_counts()"
   ]
  },
  {
   "cell_type": "code",
   "execution_count": 15,
   "metadata": {},
   "outputs": [],
   "source": [
    "df['Text_Genre'] = df['Text Genre']\n",
    "del df['Text Genre']"
   ]
  },
  {
   "cell_type": "markdown",
   "metadata": {},
   "source": [
    "# 2. City Name"
   ]
  },
  {
   "cell_type": "code",
   "execution_count": 16,
   "metadata": {},
   "outputs": [],
   "source": [
    "df['City'] = df['City Name']\n",
    "del df['City Name']"
   ]
  },
  {
   "cell_type": "code",
   "execution_count": 17,
   "metadata": {},
   "outputs": [
    {
     "data": {
      "text/plain": [
       "Idumea           526\n",
       "Jerusalem        507\n",
       "Masada           497\n",
       "Zoora            453\n",
       "Maresha          412\n",
       "                ... \n",
       "Beerot Yishaq      1\n",
       "Beit Surik         1\n",
       "Beit Sha'ar        1\n",
       "Beit Safafa        1\n",
       "Gophna             1\n",
       "Name: City, Length: 244, dtype: int64"
      ]
     },
     "execution_count": 17,
     "metadata": {},
     "output_type": "execute_result"
    }
   ],
   "source": [
    "df['City'].value_counts()"
   ]
  },
  {
   "cell_type": "code",
   "execution_count": 18,
   "metadata": {},
   "outputs": [],
   "source": [
    "df.loc[(df.City != 'Jerusalem'),'City']='Other'"
   ]
  },
  {
   "cell_type": "code",
   "execution_count": 19,
   "metadata": {},
   "outputs": [
    {
     "data": {
      "text/plain": [
       "Other        4228\n",
       "Jerusalem     507\n",
       "Name: City, dtype: int64"
      ]
     },
     "execution_count": 19,
     "metadata": {},
     "output_type": "execute_result"
    }
   ],
   "source": [
    "df['City'].value_counts()"
   ]
  },
  {
   "cell_type": "markdown",
   "metadata": {},
   "source": [
    "# 3. Language"
   ]
  },
  {
   "cell_type": "code",
   "execution_count": 20,
   "metadata": {},
   "outputs": [
    {
     "data": {
      "text/plain": [
       "Greek         2447\n",
       "Aramaic       1646\n",
       "Hebrew         380\n",
       "Latin          226\n",
       "Phoenician      22\n",
       "Armenian         4\n",
       "Other            3\n",
       "Georgian         3\n",
       "Syriac           2\n",
       "Name: Language, dtype: int64"
      ]
     },
     "execution_count": 20,
     "metadata": {},
     "output_type": "execute_result"
    }
   ],
   "source": [
    "df['Language'].value_counts()"
   ]
  },
  {
   "cell_type": "code",
   "execution_count": 21,
   "metadata": {},
   "outputs": [],
   "source": [
    "df['Language'] = df['Language'].replace(['Phoenician', 'Armenian', 'Georgian', 'Syriac', 'x-unknown'],'Other')"
   ]
  },
  {
   "cell_type": "code",
   "execution_count": 22,
   "metadata": {},
   "outputs": [
    {
     "data": {
      "text/plain": [
       "Greek      2447\n",
       "Aramaic    1646\n",
       "Hebrew      380\n",
       "Latin       226\n",
       "Other        34\n",
       "Name: Language, dtype: int64"
      ]
     },
     "execution_count": 22,
     "metadata": {},
     "output_type": "execute_result"
    }
   ],
   "source": [
    "df['Language'].value_counts()"
   ]
  },
  {
   "cell_type": "markdown",
   "metadata": {},
   "source": [
    "# 4. Region"
   ]
  },
  {
   "cell_type": "code",
   "execution_count": 23,
   "metadata": {},
   "outputs": [
    {
     "data": {
      "text/plain": [
       "Judaea           1602\n",
       "Negev            1192\n",
       "Coastal Plain     622\n",
       "Galilee           544\n",
       "Samaria           410\n",
       "Golan             140\n",
       "Jordan Valley     100\n",
       "Sinai              44\n",
       "Syria              42\n",
       "Jordan             20\n",
       "Unknown            15\n",
       "Costal Plain        1\n",
       "Golan Heights       1\n",
       "Ma'on Nirim         1\n",
       "Galillee            1\n",
       "Name: Region, dtype: int64"
      ]
     },
     "execution_count": 23,
     "metadata": {},
     "output_type": "execute_result"
    }
   ],
   "source": [
    "df['Region'].value_counts()"
   ]
  },
  {
   "cell_type": "code",
   "execution_count": 24,
   "metadata": {},
   "outputs": [],
   "source": [
    "df['Region'] = df['Region'].replace(['Jordan Valley'],'Jordan')"
   ]
  },
  {
   "cell_type": "code",
   "execution_count": 25,
   "metadata": {},
   "outputs": [],
   "source": [
    "df['Region'] = df['Region'].replace(['Syria', 'Sinai', 'Unknown', \"Ma'on Nirim\",\"Galillee\",\n",
    "                                    \"Costal Plain\"],'Other')"
   ]
  },
  {
   "cell_type": "code",
   "execution_count": 26,
   "metadata": {},
   "outputs": [],
   "source": [
    "df['Region'] = df['Region'].replace(['Golan Heights'],'Golan')"
   ]
  },
  {
   "cell_type": "code",
   "execution_count": 27,
   "metadata": {},
   "outputs": [
    {
     "data": {
      "text/plain": [
       "Judaea           1602\n",
       "Negev            1192\n",
       "Coastal Plain     622\n",
       "Galilee           544\n",
       "Samaria           410\n",
       "Golan             141\n",
       "Jordan            120\n",
       "Other             104\n",
       "Name: Region, dtype: int64"
      ]
     },
     "execution_count": 27,
     "metadata": {},
     "output_type": "execute_result"
    }
   ],
   "source": [
    "df['Region'].value_counts()"
   ]
  },
  {
   "cell_type": "markdown",
   "metadata": {},
   "source": [
    "# 5. Religion"
   ]
  },
  {
   "cell_type": "code",
   "execution_count": 28,
   "metadata": {},
   "outputs": [],
   "source": [
    "df['Religion'] = df['Likely religion']\n",
    "del df['Likely religion']"
   ]
  },
  {
   "cell_type": "code",
   "execution_count": 29,
   "metadata": {},
   "outputs": [
    {
     "data": {
      "text/plain": [
       "jewish              1962\n",
       "other_religion      1314\n",
       "christian            994\n",
       "unknown_religion     453\n",
       "unknown                7\n",
       "Name: Religion, dtype: int64"
      ]
     },
     "execution_count": 29,
     "metadata": {},
     "output_type": "execute_result"
    }
   ],
   "source": [
    "df['Religion'].value_counts()"
   ]
  },
  {
   "cell_type": "code",
   "execution_count": 30,
   "metadata": {},
   "outputs": [],
   "source": [
    "df['Religion'] = df['Religion'].replace(['unknown_religion'],'unknown')"
   ]
  },
  {
   "cell_type": "code",
   "execution_count": 31,
   "metadata": {},
   "outputs": [
    {
     "data": {
      "text/plain": [
       "jewish            1962\n",
       "other_religion    1314\n",
       "christian          994\n",
       "unknown            460\n",
       "Name: Religion, dtype: int64"
      ]
     },
     "execution_count": 31,
     "metadata": {},
     "output_type": "execute_result"
    }
   ],
   "source": [
    "df['Religion'].value_counts()"
   ]
  },
  {
   "cell_type": "markdown",
   "metadata": {},
   "source": [
    "# 6. Material"
   ]
  },
  {
   "cell_type": "code",
   "execution_count": 32,
   "metadata": {},
   "outputs": [
    {
     "data": {
      "text/plain": [
       "clay                1404\n",
       "stone                874\n",
       "limestone            344\n",
       "marble               321\n",
       "stone.other          258\n",
       "material_unknown     249\n",
       "metal                 60\n",
       "plaster               52\n",
       "stone glass           35\n",
       "stone.marble          28\n",
       "lead                  17\n",
       "material_other        14\n",
       "bone                  12\n",
       "stone.unknown          9\n",
       "glass                  3\n",
       "stone.limestone        3\n",
       "kurkar                 3\n",
       "granite                3\n",
       "Lead                   2\n",
       "stone clay             1\n",
       "Name: Material, dtype: int64"
      ]
     },
     "execution_count": 32,
     "metadata": {},
     "output_type": "execute_result"
    }
   ],
   "source": [
    "df['Material'].value_counts()"
   ]
  },
  {
   "cell_type": "code",
   "execution_count": 33,
   "metadata": {},
   "outputs": [],
   "source": [
    "df['Material'] = df['Material'].replace(['stone glass', 'stone.marble', 'lead', 'material_other', 'bone', 'stone.unknown',\n",
    "                                        'glass', 'kurkar', 'stone.limestone', 'granite', 'Lead', 'stone clay'],'Other')\n",
    "df[\"Material\"] = df[\"Material\"].replace([\"stone.other\"], \"stone\")"
   ]
  },
  {
   "cell_type": "code",
   "execution_count": 34,
   "metadata": {},
   "outputs": [
    {
     "data": {
      "text/plain": [
       "clay                1404\n",
       "stone               1132\n",
       "limestone            344\n",
       "marble               321\n",
       "material_unknown     249\n",
       "Other                130\n",
       "metal                 60\n",
       "plaster               52\n",
       "Name: Material, dtype: int64"
      ]
     },
     "execution_count": 34,
     "metadata": {},
     "output_type": "execute_result"
    }
   ],
   "source": [
    "df['Material'].value_counts()"
   ]
  },
  {
   "cell_type": "code",
   "execution_count": 35,
   "metadata": {},
   "outputs": [],
   "source": [
    "df['Time_before'] = df['Terminus ante quem']\n",
    "del df['Terminus ante quem']\n",
    "df['Time_after'] = df['Terminus post quem']\n",
    "del df['Terminus post quem']"
   ]
  },
  {
   "cell_type": "code",
   "execution_count": 36,
   "metadata": {},
   "outputs": [
    {
     "data": {
      "text/plain": [
       "1289"
      ]
     },
     "execution_count": 36,
     "metadata": {},
     "output_type": "execute_result"
    }
   ],
   "source": [
    "sum(df['Time_after'] - df['Time_before'] < 10)"
   ]
  },
  {
   "cell_type": "markdown",
   "metadata": {},
   "source": [
    "# Select dataframe where the date is known"
   ]
  },
  {
   "cell_type": "code",
   "execution_count": 37,
   "metadata": {},
   "outputs": [],
   "source": [
    "df_final = df[(df['Time_after'] - df['Time_before']) == 0]"
   ]
  },
  {
   "cell_type": "code",
   "execution_count": 38,
   "metadata": {
    "scrolled": true
   },
   "outputs": [
    {
     "name": "stderr",
     "output_type": "stream",
     "text": [
      "C:\\Users\\daiki\\AppData\\Local\\Temp\\ipykernel_8088\\1335595941.py:1: SettingWithCopyWarning: \n",
      "A value is trying to be set on a copy of a slice from a DataFrame.\n",
      "Try using .loc[row_indexer,col_indexer] = value instead\n",
      "\n",
      "See the caveats in the documentation: https://pandas.pydata.org/pandas-docs/stable/user_guide/indexing.html#returning-a-view-versus-a-copy\n",
      "  df_final[\"Time\"] = df_final['Time_after']\n"
     ]
    }
   ],
   "source": [
    "df_final[\"Time\"] = df_final['Time_after']"
   ]
  },
  {
   "cell_type": "code",
   "execution_count": 39,
   "metadata": {},
   "outputs": [
    {
     "data": {
      "text/html": [
       "<div>\n",
       "<style scoped>\n",
       "    .dataframe tbody tr th:only-of-type {\n",
       "        vertical-align: middle;\n",
       "    }\n",
       "\n",
       "    .dataframe tbody tr th {\n",
       "        vertical-align: top;\n",
       "    }\n",
       "\n",
       "    .dataframe thead th {\n",
       "        text-align: right;\n",
       "    }\n",
       "</style>\n",
       "<table border=\"1\" class=\"dataframe\">\n",
       "  <thead>\n",
       "    <tr style=\"text-align: right;\">\n",
       "      <th></th>\n",
       "      <th>IIP ID</th>\n",
       "      <th>Language</th>\n",
       "      <th>Region</th>\n",
       "      <th>Material</th>\n",
       "      <th>Text_Genre</th>\n",
       "      <th>City</th>\n",
       "      <th>Religion</th>\n",
       "      <th>Time_before</th>\n",
       "      <th>Time_after</th>\n",
       "      <th>Time</th>\n",
       "    </tr>\n",
       "  </thead>\n",
       "  <tbody>\n",
       "    <tr>\n",
       "      <th>166</th>\n",
       "      <td>idum0020</td>\n",
       "      <td>Aramaic</td>\n",
       "      <td>Negev</td>\n",
       "      <td>clay</td>\n",
       "      <td>legal/economic</td>\n",
       "      <td>Other</td>\n",
       "      <td>unknown</td>\n",
       "      <td>-354.0</td>\n",
       "      <td>-354.0</td>\n",
       "      <td>-354.0</td>\n",
       "    </tr>\n",
       "    <tr>\n",
       "      <th>679</th>\n",
       "      <td>masa0796</td>\n",
       "      <td>Greek</td>\n",
       "      <td>Judaea</td>\n",
       "      <td>clay</td>\n",
       "      <td>label</td>\n",
       "      <td>Other</td>\n",
       "      <td>other_religion</td>\n",
       "      <td>26.0</td>\n",
       "      <td>26.0</td>\n",
       "      <td>26.0</td>\n",
       "    </tr>\n",
       "    <tr>\n",
       "      <th>682</th>\n",
       "      <td>masa0795</td>\n",
       "      <td>Greek</td>\n",
       "      <td>Judaea</td>\n",
       "      <td>clay</td>\n",
       "      <td>label</td>\n",
       "      <td>Other</td>\n",
       "      <td>other_religion</td>\n",
       "      <td>27.0</td>\n",
       "      <td>27.0</td>\n",
       "      <td>27.0</td>\n",
       "    </tr>\n",
       "    <tr>\n",
       "      <th>897</th>\n",
       "      <td>mger0128</td>\n",
       "      <td>Aramaic</td>\n",
       "      <td>Samaria</td>\n",
       "      <td>stone</td>\n",
       "      <td>dedicatory</td>\n",
       "      <td>Other</td>\n",
       "      <td>jewish</td>\n",
       "      <td>-400.0</td>\n",
       "      <td>-400.0</td>\n",
       "      <td>-400.0</td>\n",
       "    </tr>\n",
       "    <tr>\n",
       "      <th>1166</th>\n",
       "      <td>mogh0001</td>\n",
       "      <td>Greek</td>\n",
       "      <td>Coastal Plain</td>\n",
       "      <td>marble</td>\n",
       "      <td>other/unkown</td>\n",
       "      <td>Other</td>\n",
       "      <td>unknown</td>\n",
       "      <td>515.0</td>\n",
       "      <td>515.0</td>\n",
       "      <td>515.0</td>\n",
       "    </tr>\n",
       "  </tbody>\n",
       "</table>\n",
       "</div>"
      ],
      "text/plain": [
       "        IIP ID Language         Region Material      Text_Genre   City  \\\n",
       "166   idum0020  Aramaic          Negev     clay  legal/economic  Other   \n",
       "679   masa0796    Greek         Judaea     clay           label  Other   \n",
       "682   masa0795    Greek         Judaea     clay           label  Other   \n",
       "897   mger0128  Aramaic        Samaria    stone      dedicatory  Other   \n",
       "1166  mogh0001    Greek  Coastal Plain   marble    other/unkown  Other   \n",
       "\n",
       "            Religion  Time_before  Time_after   Time  \n",
       "166          unknown       -354.0      -354.0 -354.0  \n",
       "679   other_religion         26.0        26.0   26.0  \n",
       "682   other_religion         27.0        27.0   27.0  \n",
       "897           jewish       -400.0      -400.0 -400.0  \n",
       "1166         unknown        515.0       515.0  515.0  "
      ]
     },
     "execution_count": 39,
     "metadata": {},
     "output_type": "execute_result"
    }
   ],
   "source": [
    "df_final.head()"
   ]
  },
  {
   "cell_type": "code",
   "execution_count": 40,
   "metadata": {},
   "outputs": [],
   "source": [
    "del df_final['Time_before']\n",
    "del df_final['Time_after']"
   ]
  },
  {
   "cell_type": "code",
   "execution_count": 41,
   "metadata": {},
   "outputs": [],
   "source": [
    "df_final.to_csv('Exact_data1.csv', index=False)"
   ]
  },
  {
   "cell_type": "code",
   "execution_count": 42,
   "metadata": {},
   "outputs": [],
   "source": [
    "del df_final[\"IIP ID\"]"
   ]
  },
  {
   "cell_type": "code",
   "execution_count": 43,
   "metadata": {},
   "outputs": [],
   "source": [
    "df_final = pd.get_dummies(df_final)"
   ]
  },
  {
   "cell_type": "code",
   "execution_count": 44,
   "metadata": {},
   "outputs": [
    {
     "data": {
      "text/html": [
       "<div>\n",
       "<style scoped>\n",
       "    .dataframe tbody tr th:only-of-type {\n",
       "        vertical-align: middle;\n",
       "    }\n",
       "\n",
       "    .dataframe tbody tr th {\n",
       "        vertical-align: top;\n",
       "    }\n",
       "\n",
       "    .dataframe thead th {\n",
       "        text-align: right;\n",
       "    }\n",
       "</style>\n",
       "<table border=\"1\" class=\"dataframe\">\n",
       "  <thead>\n",
       "    <tr style=\"text-align: right;\">\n",
       "      <th></th>\n",
       "      <th>Time</th>\n",
       "      <th>Language_Aramaic</th>\n",
       "      <th>Language_Greek</th>\n",
       "      <th>Language_Latin</th>\n",
       "      <th>Language_Other</th>\n",
       "      <th>Region_Coastal Plain</th>\n",
       "      <th>Region_Galilee</th>\n",
       "      <th>Region_Golan</th>\n",
       "      <th>Region_Jordan</th>\n",
       "      <th>Region_Judaea</th>\n",
       "      <th>...</th>\n",
       "      <th>Text_Genre_funerary</th>\n",
       "      <th>Text_Genre_label</th>\n",
       "      <th>Text_Genre_legal/economic</th>\n",
       "      <th>Text_Genre_other/unkown</th>\n",
       "      <th>City_Jerusalem</th>\n",
       "      <th>City_Other</th>\n",
       "      <th>Religion_christian</th>\n",
       "      <th>Religion_jewish</th>\n",
       "      <th>Religion_other_religion</th>\n",
       "      <th>Religion_unknown</th>\n",
       "    </tr>\n",
       "  </thead>\n",
       "  <tbody>\n",
       "    <tr>\n",
       "      <th>166</th>\n",
       "      <td>-354.0</td>\n",
       "      <td>1</td>\n",
       "      <td>0</td>\n",
       "      <td>0</td>\n",
       "      <td>0</td>\n",
       "      <td>0</td>\n",
       "      <td>0</td>\n",
       "      <td>0</td>\n",
       "      <td>0</td>\n",
       "      <td>0</td>\n",
       "      <td>...</td>\n",
       "      <td>0</td>\n",
       "      <td>0</td>\n",
       "      <td>1</td>\n",
       "      <td>0</td>\n",
       "      <td>0</td>\n",
       "      <td>1</td>\n",
       "      <td>0</td>\n",
       "      <td>0</td>\n",
       "      <td>0</td>\n",
       "      <td>1</td>\n",
       "    </tr>\n",
       "    <tr>\n",
       "      <th>679</th>\n",
       "      <td>26.0</td>\n",
       "      <td>0</td>\n",
       "      <td>1</td>\n",
       "      <td>0</td>\n",
       "      <td>0</td>\n",
       "      <td>0</td>\n",
       "      <td>0</td>\n",
       "      <td>0</td>\n",
       "      <td>0</td>\n",
       "      <td>1</td>\n",
       "      <td>...</td>\n",
       "      <td>0</td>\n",
       "      <td>1</td>\n",
       "      <td>0</td>\n",
       "      <td>0</td>\n",
       "      <td>0</td>\n",
       "      <td>1</td>\n",
       "      <td>0</td>\n",
       "      <td>0</td>\n",
       "      <td>1</td>\n",
       "      <td>0</td>\n",
       "    </tr>\n",
       "    <tr>\n",
       "      <th>682</th>\n",
       "      <td>27.0</td>\n",
       "      <td>0</td>\n",
       "      <td>1</td>\n",
       "      <td>0</td>\n",
       "      <td>0</td>\n",
       "      <td>0</td>\n",
       "      <td>0</td>\n",
       "      <td>0</td>\n",
       "      <td>0</td>\n",
       "      <td>1</td>\n",
       "      <td>...</td>\n",
       "      <td>0</td>\n",
       "      <td>1</td>\n",
       "      <td>0</td>\n",
       "      <td>0</td>\n",
       "      <td>0</td>\n",
       "      <td>1</td>\n",
       "      <td>0</td>\n",
       "      <td>0</td>\n",
       "      <td>1</td>\n",
       "      <td>0</td>\n",
       "    </tr>\n",
       "    <tr>\n",
       "      <th>897</th>\n",
       "      <td>-400.0</td>\n",
       "      <td>1</td>\n",
       "      <td>0</td>\n",
       "      <td>0</td>\n",
       "      <td>0</td>\n",
       "      <td>0</td>\n",
       "      <td>0</td>\n",
       "      <td>0</td>\n",
       "      <td>0</td>\n",
       "      <td>0</td>\n",
       "      <td>...</td>\n",
       "      <td>0</td>\n",
       "      <td>0</td>\n",
       "      <td>0</td>\n",
       "      <td>0</td>\n",
       "      <td>0</td>\n",
       "      <td>1</td>\n",
       "      <td>0</td>\n",
       "      <td>1</td>\n",
       "      <td>0</td>\n",
       "      <td>0</td>\n",
       "    </tr>\n",
       "    <tr>\n",
       "      <th>1166</th>\n",
       "      <td>515.0</td>\n",
       "      <td>0</td>\n",
       "      <td>1</td>\n",
       "      <td>0</td>\n",
       "      <td>0</td>\n",
       "      <td>1</td>\n",
       "      <td>0</td>\n",
       "      <td>0</td>\n",
       "      <td>0</td>\n",
       "      <td>0</td>\n",
       "      <td>...</td>\n",
       "      <td>0</td>\n",
       "      <td>0</td>\n",
       "      <td>0</td>\n",
       "      <td>1</td>\n",
       "      <td>0</td>\n",
       "      <td>1</td>\n",
       "      <td>0</td>\n",
       "      <td>0</td>\n",
       "      <td>0</td>\n",
       "      <td>1</td>\n",
       "    </tr>\n",
       "  </tbody>\n",
       "</table>\n",
       "<p>5 rows × 31 columns</p>\n",
       "</div>"
      ],
      "text/plain": [
       "       Time  Language_Aramaic  Language_Greek  Language_Latin  Language_Other  \\\n",
       "166  -354.0                 1               0               0               0   \n",
       "679    26.0                 0               1               0               0   \n",
       "682    27.0                 0               1               0               0   \n",
       "897  -400.0                 1               0               0               0   \n",
       "1166  515.0                 0               1               0               0   \n",
       "\n",
       "      Region_Coastal Plain  Region_Galilee  Region_Golan  Region_Jordan  \\\n",
       "166                      0               0             0              0   \n",
       "679                      0               0             0              0   \n",
       "682                      0               0             0              0   \n",
       "897                      0               0             0              0   \n",
       "1166                     1               0             0              0   \n",
       "\n",
       "      Region_Judaea  ...  Text_Genre_funerary  Text_Genre_label  \\\n",
       "166               0  ...                    0                 0   \n",
       "679               1  ...                    0                 1   \n",
       "682               1  ...                    0                 1   \n",
       "897               0  ...                    0                 0   \n",
       "1166              0  ...                    0                 0   \n",
       "\n",
       "      Text_Genre_legal/economic  Text_Genre_other/unkown  City_Jerusalem  \\\n",
       "166                           1                        0               0   \n",
       "679                           0                        0               0   \n",
       "682                           0                        0               0   \n",
       "897                           0                        0               0   \n",
       "1166                          0                        1               0   \n",
       "\n",
       "      City_Other  Religion_christian  Religion_jewish  \\\n",
       "166            1                   0                0   \n",
       "679            1                   0                0   \n",
       "682            1                   0                0   \n",
       "897            1                   0                1   \n",
       "1166           1                   0                0   \n",
       "\n",
       "      Religion_other_religion  Religion_unknown  \n",
       "166                         0                 1  \n",
       "679                         1                 0  \n",
       "682                         1                 0  \n",
       "897                         0                 0  \n",
       "1166                        0                 1  \n",
       "\n",
       "[5 rows x 31 columns]"
      ]
     },
     "execution_count": 44,
     "metadata": {},
     "output_type": "execute_result"
    }
   ],
   "source": [
    "df_final.head()"
   ]
  },
  {
   "cell_type": "code",
   "execution_count": 45,
   "metadata": {},
   "outputs": [],
   "source": [
    "df_final.to_csv('Exact_data.csv', index=False)"
   ]
  }
 ],
 "metadata": {
  "kernelspec": {
   "display_name": "Python 3 (ipykernel)",
   "language": "python",
   "name": "python3"
  },
  "language_info": {
   "codemirror_mode": {
    "name": "ipython",
    "version": 3
   },
   "file_extension": ".py",
   "mimetype": "text/x-python",
   "name": "python",
   "nbconvert_exporter": "python",
   "pygments_lexer": "ipython3",
   "version": "3.9.13"
  }
 },
 "nbformat": 4,
 "nbformat_minor": 4
}
